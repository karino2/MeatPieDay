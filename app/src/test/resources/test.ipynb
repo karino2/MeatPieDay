{"cells":
[
    {"cell_type":"markdown",
    "metadata":{"updated_at":1506077162718},
    "source":["日本語のタイトルでファイル名を作ると、リンクまでそのタイトルをurl encodeした物を含んでしまい、twitterなどに貼りにくい。\n\nという事でurlとしてはissue idを使う事にする。\n\n既存のリンクは壊れるので、幾つかのファイルは前のも残しました。"]
    },
    {"cell_type":"markdown",
    "metadata":{"updated_at":1506077175237},
    "source":["RSS汚しですがご容赦を m_ _m"]}
],
"metadata":{"kernelspec":{"display_name":"Python 2","language":"python","name":"python2"},
"lanbuage_info":{"codemirror_mode":
{"name":"ipython","version":2},"
file_extension":".py","mimetype":"text/x-python","name":"python","nbconvert_exporter":"python",
"pygments_lexer":"ipython2","version":"2.7.11"}},
"nbformat":4,"nbformat_minor":0}